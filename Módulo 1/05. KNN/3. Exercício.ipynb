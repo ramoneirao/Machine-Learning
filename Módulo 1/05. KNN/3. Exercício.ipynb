{
 "cells": [
  {
   "cell_type": "code",
   "execution_count": 1,
   "id": "12fcf4fb",
   "metadata": {},
   "outputs": [],
   "source": [
    "from sklearn.datasets import load_iris\n",
    "import pandas as pd\n",
    "iris = load_iris()\n",
    "x = pd.DataFrame(iris.data, columns = [iris.feature_names])\n",
    "y = pd.Series(iris.target)"
   ]
  },
  {
   "cell_type": "code",
   "execution_count": 2,
   "id": "b8d34711",
   "metadata": {},
   "outputs": [
    {
     "data": {
      "text/html": [
       "<div>\n",
       "<style scoped>\n",
       "    .dataframe tbody tr th:only-of-type {\n",
       "        vertical-align: middle;\n",
       "    }\n",
       "\n",
       "    .dataframe tbody tr th {\n",
       "        vertical-align: top;\n",
       "    }\n",
       "\n",
       "    .dataframe thead tr th {\n",
       "        text-align: left;\n",
       "    }\n",
       "</style>\n",
       "<table border=\"1\" class=\"dataframe\">\n",
       "  <thead>\n",
       "    <tr>\n",
       "      <th></th>\n",
       "      <th>sepal length (cm)</th>\n",
       "      <th>sepal width (cm)</th>\n",
       "      <th>petal length (cm)</th>\n",
       "      <th>petal width (cm)</th>\n",
       "    </tr>\n",
       "  </thead>\n",
       "  <tbody>\n",
       "    <tr>\n",
       "      <th>0</th>\n",
       "      <td>5.1</td>\n",
       "      <td>3.5</td>\n",
       "      <td>1.4</td>\n",
       "      <td>0.2</td>\n",
       "    </tr>\n",
       "    <tr>\n",
       "      <th>1</th>\n",
       "      <td>4.9</td>\n",
       "      <td>3.0</td>\n",
       "      <td>1.4</td>\n",
       "      <td>0.2</td>\n",
       "    </tr>\n",
       "    <tr>\n",
       "      <th>2</th>\n",
       "      <td>4.7</td>\n",
       "      <td>3.2</td>\n",
       "      <td>1.3</td>\n",
       "      <td>0.2</td>\n",
       "    </tr>\n",
       "    <tr>\n",
       "      <th>3</th>\n",
       "      <td>4.6</td>\n",
       "      <td>3.1</td>\n",
       "      <td>1.5</td>\n",
       "      <td>0.2</td>\n",
       "    </tr>\n",
       "    <tr>\n",
       "      <th>4</th>\n",
       "      <td>5.0</td>\n",
       "      <td>3.6</td>\n",
       "      <td>1.4</td>\n",
       "      <td>0.2</td>\n",
       "    </tr>\n",
       "  </tbody>\n",
       "</table>\n",
       "</div>"
      ],
      "text/plain": [
       "  sepal length (cm) sepal width (cm) petal length (cm) petal width (cm)\n",
       "0               5.1              3.5               1.4              0.2\n",
       "1               4.9              3.0               1.4              0.2\n",
       "2               4.7              3.2               1.3              0.2\n",
       "3               4.6              3.1               1.5              0.2\n",
       "4               5.0              3.6               1.4              0.2"
      ]
     },
     "execution_count": 2,
     "metadata": {},
     "output_type": "execute_result"
    }
   ],
   "source": [
    "x.head()"
   ]
  },
  {
   "cell_type": "code",
   "execution_count": 3,
   "id": "31dbede3",
   "metadata": {},
   "outputs": [
    {
     "name": "stdout",
     "output_type": "stream",
     "text": [
      "Acurácia: 0.9777777777777777\n"
     ]
    },
    {
     "name": "stderr",
     "output_type": "stream",
     "text": [
      "C:\\Users\\ramon\\Anaconda3\\lib\\site-packages\\sklearn\\utils\\validation.py:1688: FutureWarning: Feature names only support names that are all strings. Got feature names with dtypes: ['tuple']. An error will be raised in 1.2.\n",
      "  warnings.warn(\n",
      "C:\\Users\\ramon\\Anaconda3\\lib\\site-packages\\sklearn\\utils\\validation.py:1688: FutureWarning: Feature names only support names that are all strings. Got feature names with dtypes: ['tuple']. An error will be raised in 1.2.\n",
      "  warnings.warn(\n"
     ]
    }
   ],
   "source": [
    "from sklearn.neighbors import KNeighborsClassifier\n",
    "from sklearn.preprocessing import MinMaxScaler \n",
    "from sklearn.model_selection import train_test_split\n",
    "\n",
    "# normalizando as variaveis preditoras: \n",
    "normalizador = MinMaxScaler(feature_range = (0, 1))\n",
    "X_norm = normalizador.fit_transform(x)\n",
    "\n",
    "# separando os dados entre treino e teste:\n",
    "X_treino, X_teste, Y_treino, Y_teste = train_test_split(X_norm, y, test_size = 0.3, random_state = 16)\n",
    "\n",
    "# criação do modelo:\n",
    "modelo = KNeighborsClassifier(n_neighbors = 5)\n",
    "modelo.fit(X_treino, Y_treino)\n",
    "\n",
    "# score:\n",
    "resultado = modelo.score(X_teste, Y_teste)\n",
    "print(f\"Acurácia: {resultado}\")"
   ]
  },
  {
   "cell_type": "code",
   "execution_count": 12,
   "id": "fe2622c3",
   "metadata": {
    "scrolled": false
   },
   "outputs": [
    {
     "name": "stderr",
     "output_type": "stream",
     "text": [
      "C:\\Users\\ramon\\Anaconda3\\lib\\site-packages\\sklearn\\utils\\validation.py:1688: FutureWarning: Feature names only support names that are all strings. Got feature names with dtypes: ['tuple']. An error will be raised in 1.2.\n",
      "  warnings.warn(\n",
      "C:\\Users\\ramon\\Anaconda3\\lib\\site-packages\\sklearn\\utils\\validation.py:1688: FutureWarning: Feature names only support names that are all strings. Got feature names with dtypes: ['tuple']. An error will be raised in 1.2.\n",
      "  warnings.warn(\n"
     ]
    },
    {
     "name": "stdout",
     "output_type": "stream",
     "text": [
      "Melhor acuracia: 0.9733333333333334\n",
      "Melhor K: 5\n",
      "Melhor distancia: minkowski\n",
      "Melhor valor de p: 3\n"
     ]
    }
   ],
   "source": [
    "import numpy as np\n",
    "from sklearn.neighbors import KNeighborsClassifier\n",
    "from sklearn.preprocessing import MinMaxScaler \n",
    "from sklearn.model_selection import GridSearchCV\n",
    "\n",
    "# normalizando as variaveis preditoras: \n",
    "normalizador = MinMaxScaler(feature_range = (0, 1))\n",
    "X_norm = normalizador.fit_transform(x)\n",
    "\n",
    "# definindo valores que serão testados no KNN:\n",
    "valores_K = np.array([3, 4, 5, 6, 7, 9, 11])\n",
    "calculo_distancia = [\"minkowski\",\"chebyshev\"]\n",
    "valores_p = np.array([1, 2, 3, 4])\n",
    "valores_grid ={\"n_neighbors\" : valores_K,\n",
    "                \"metric\" : calculo_distancia,\n",
    "                \"p\" : valores_p}\n",
    "\n",
    "# criação do modelo:\n",
    "modelo = KNeighborsClassifier()\n",
    "\n",
    "# criando grids: \n",
    "gridKNN = GridSearchCV (estimator = modelo , param_grid = valores_grid, cv=5)\n",
    "gridKNN.fit(X_norm, y)\n",
    "\n",
    "# imprimindo parametros escolhidos: \n",
    "print(f\"Melhor acuracia: {gridKNN.best_score_}\\n\"\n",
    "      f\"Melhor K: {gridKNN.best_estimator_.n_neighbors}\\n\"\n",
    "      f\"Melhor distancia: {gridKNN.best_estimator_.metric}\\n\"\n",
    "      f\"Melhor valor de p: {gridKNN.best_estimator_.p}\")"
   ]
  },
  {
   "cell_type": "code",
   "execution_count": null,
   "id": "ca5eceba",
   "metadata": {},
   "outputs": [],
   "source": []
  }
 ],
 "metadata": {
  "kernelspec": {
   "display_name": "Python 3 (ipykernel)",
   "language": "python",
   "name": "python3"
  },
  "language_info": {
   "codemirror_mode": {
    "name": "ipython",
    "version": 3
   },
   "file_extension": ".py",
   "mimetype": "text/x-python",
   "name": "python",
   "nbconvert_exporter": "python",
   "pygments_lexer": "ipython3",
   "version": "3.9.12"
  }
 },
 "nbformat": 4,
 "nbformat_minor": 5
}
