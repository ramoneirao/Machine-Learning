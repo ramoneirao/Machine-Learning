{
 "cells": [
  {
   "cell_type": "code",
   "execution_count": 1,
   "id": "9dc8e006",
   "metadata": {},
   "outputs": [],
   "source": [
    "import pandas as pd \n",
    "from sklearn.linear_model import ElasticNet\n",
    "from sklearn.model_selection import GridSearchCV\n",
    "from sklearn.feature_selection import RFE\n",
    "\n",
    "pd.set_option('display.max_columns', 10)\n",
    "pd.set_option('display.width', 320)\n",
    "\n",
    "df = pd.read_csv('Admission_Predict.csv')\n",
    "df.drop('Serial No.', axis=1, inplace=True)"
   ]
  },
  {
   "cell_type": "code",
   "execution_count": 2,
   "id": "c8137227",
   "metadata": {},
   "outputs": [
    {
     "name": "stdout",
     "output_type": "stream",
     "text": [
      "Melhor score: 0.7408292165331448\n",
      "Melhor alpha: 0.1\n",
      "Melhor l1_rato: 0.02\n"
     ]
    }
   ],
   "source": [
    "# separando as variáveis entre preditoras e variável target\n",
    "y = df['Chance of Admit ']\n",
    "x = df.drop('Chance of Admit ', axis=1)\n",
    "\n",
    "# definindo os valores que serão testados\n",
    "valores = {'alpha':[0.1,0.5,1,2,5,10,25,50,100], 'l1_ratio':[0.02,0.05,0.1,0.2,0.3,0.4,0.5,0.8]}\n",
    "\n",
    "# criando modelo\n",
    "modelo = ElasticNet()\n",
    "procura = GridSearchCV(estimator= modelo, param_grid=valores, cv=5, n_jobs=-1)\n",
    "procura.fit(x, y)\n",
    "\n",
    "\n",
    "# mostrando os resultados\n",
    "print(f'Melhor score: {procura.best_score_}')\n",
    "print(f'Melhor alpha: {procura.best_estimator_.alpha}')\n",
    "print(f'Melhor l1_rato: {procura.best_estimator_.l1_ratio}')"
   ]
  }
 ],
 "metadata": {
  "kernelspec": {
   "display_name": "Python 3 (ipykernel)",
   "language": "python",
   "name": "python3"
  },
  "language_info": {
   "codemirror_mode": {
    "name": "ipython",
    "version": 3
   },
   "file_extension": ".py",
   "mimetype": "text/x-python",
   "name": "python",
   "nbconvert_exporter": "python",
   "pygments_lexer": "ipython3",
   "version": "3.9.13"
  }
 },
 "nbformat": 4,
 "nbformat_minor": 5
}
