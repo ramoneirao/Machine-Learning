{
 "cells": [
  {
   "cell_type": "code",
   "execution_count": 1,
   "id": "d1e1271c",
   "metadata": {},
   "outputs": [
    {
     "name": "stdout",
     "output_type": "stream",
     "text": [
      "     GRE Score  TOEFL Score  University Rating  SOP  LOR   CGPA  Research  Chance of Admit \n",
      "0          337          118                  4  4.5   4.5  9.65         1              0.92\n",
      "1          324          107                  4  4.0   4.5  8.87         1              0.76\n",
      "2          316          104                  3  3.0   3.5  8.00         1              0.72\n",
      "3          322          110                  3  3.5   2.5  8.67         1              0.80\n",
      "4          314          103                  2  2.0   3.0  8.21         0              0.65\n",
      "..         ...          ...                ...  ...   ...   ...       ...               ...\n",
      "395        324          110                  3  3.5   3.5  9.04         1              0.82\n",
      "396        325          107                  3  3.0   3.5  9.11         1              0.84\n",
      "397        330          116                  4  5.0   4.5  9.45         1              0.91\n",
      "398        312          103                  3  3.5   4.0  8.78         0              0.67\n",
      "399        333          117                  4  5.0   4.0  9.66         1              0.95\n",
      "\n",
      "[400 rows x 8 columns]\n"
     ]
    }
   ],
   "source": [
    "import pandas as pd \n",
    "from sklearn.linear_model import Ridge\n",
    "from sklearn.feature_selection import RFE\n",
    "\n",
    "pd.set_option('display.max_columns', 10)\n",
    "pd.set_option('display.width', 320)\n",
    "\n",
    "df = pd.read_csv('Admission_Predict.csv')\n",
    "df.drop('Serial No.', axis=1, inplace=True)\n",
    "\n",
    "print(df)"
   ]
  },
  {
   "cell_type": "code",
   "execution_count": 2,
   "id": "d125dd9f",
   "metadata": {},
   "outputs": [
    {
     "name": "stdout",
     "output_type": "stream",
     "text": [
      "Número de atributos: 5\n",
      "Atributos selecionados: [False  True  True False  True  True  True]\n",
      "Ranking dos Atributos: [3 1 1 2 1 1 1]\n"
     ]
    }
   ],
   "source": [
    "# separando as variáveis entre preditoras e variável target\n",
    "y = df['Chance of Admit ']\n",
    "x = df.drop('Chance of Admit ', axis=1)\n",
    "\n",
    "# definindo o algoritmo de machine learning que será utilizado\n",
    "modelo = Ridge()\n",
    "\n",
    "# RFE \n",
    "rfe = RFE(estimator=modelo, n_features_to_select=5)\n",
    "fit = rfe.fit(x, y)\n",
    "\n",
    "# mostrando os resultados\n",
    "print(f'Número de atributos: {fit.n_features_}')\n",
    "print(f'Atributos selecionados: {fit.support_}')\n",
    "print(f'Ranking dos Atributos: {fit.ranking_}')"
   ]
  },
  {
   "cell_type": "code",
   "execution_count": 3,
   "id": "b7367dea",
   "metadata": {},
   "outputs": [
    {
     "name": "stdout",
     "output_type": "stream",
     "text": [
      "Número de atributos: 5\n",
      "Atributos selecionados: [ True  True False  True  True  True False]\n",
      "Ranking dos Atributos: [1 1 3 1 1 1 2]\n"
     ]
    }
   ],
   "source": [
    "from sklearn.tree import DecisionTreeRegressor\n",
    "\n",
    "# definindo o algoritmo de machine learning que será utilizado\n",
    "modelo = DecisionTreeRegressor()\n",
    "\n",
    "# RFE \n",
    "rfe = RFE(estimator=modelo, n_features_to_select=5)\n",
    "fit = rfe.fit(x, y)\n",
    "\n",
    "# mostrando os resultados\n",
    "print(f'Número de atributos: {fit.n_features_}')\n",
    "print(f'Atributos selecionados: {fit.support_}')\n",
    "print(f'Ranking dos Atributos: {fit.ranking_}')"
   ]
  }
 ],
 "metadata": {
  "kernelspec": {
   "display_name": "Python 3 (ipykernel)",
   "language": "python",
   "name": "python3"
  },
  "language_info": {
   "codemirror_mode": {
    "name": "ipython",
    "version": 3
   },
   "file_extension": ".py",
   "mimetype": "text/x-python",
   "name": "python",
   "nbconvert_exporter": "python",
   "pygments_lexer": "ipython3",
   "version": "3.9.13"
  }
 },
 "nbformat": 4,
 "nbformat_minor": 5
}
