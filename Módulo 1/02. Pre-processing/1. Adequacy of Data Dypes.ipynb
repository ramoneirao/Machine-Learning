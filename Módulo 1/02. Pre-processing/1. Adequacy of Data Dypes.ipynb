{
 "cells": [
  {
   "cell_type": "code",
   "execution_count": 1,
   "id": "0ff91921",
   "metadata": {},
   "outputs": [],
   "source": [
    "import pandas as pd\n",
    "pd.set_option('display.max_columns', 42)\n",
    "df = pd.read_csv('2015-building-energy-benchmarking.csv')"
   ]
  },
  {
   "cell_type": "code",
   "execution_count": 2,
   "id": "970b35f8",
   "metadata": {},
   "outputs": [
    {
     "data": {
      "text/plain": [
       "OSEBuildingID                                                      int64\n",
       "DataYear                                                           int64\n",
       "BuildingType                                                      object\n",
       "PrimaryPropertyType                                               object\n",
       "PropertyName                                                      object\n",
       "TaxParcelIdentificationNumber                                     object\n",
       "Location                                                          object\n",
       "CouncilDistrictCode                                                int64\n",
       "Neighborhood                                                      object\n",
       "YearBuilt                                                          int64\n",
       "NumberofBuildings                                                  int64\n",
       "NumberofFloors                                                   float64\n",
       "PropertyGFATotal                                                   int64\n",
       "PropertyGFAParking                                                 int64\n",
       "PropertyGFABuilding(s)                                             int64\n",
       "ListOfAllPropertyUseTypes                                         object\n",
       "LargestPropertyUseType                                            object\n",
       "LargestPropertyUseTypeGFA                                        float64\n",
       "SecondLargestPropertyUseType                                      object\n",
       "SecondLargestPropertyUseTypeGFA                                  float64\n",
       "ThirdLargestPropertyUseType                                       object\n",
       "ThirdLargestPropertyUseTypeGFA                                   float64\n",
       "YearsENERGYSTARCertified                                          object\n",
       "ENERGYSTARScore                                                  float64\n",
       "SiteEUI(kBtu/sf)                                                 float64\n",
       "SiteEUIWN(kBtu/sf)                                               float64\n",
       "SourceEUI(kBtu/sf)                                               float64\n",
       "SourceEUIWN(kBtu/sf)                                             float64\n",
       "SiteEnergyUse(kBtu)                                              float64\n",
       "SiteEnergyUseWN(kBtu)                                            float64\n",
       "SteamUse(kBtu)                                                   float64\n",
       "Electricity(kWh)                                                 float64\n",
       "Electricity(kBtu)                                                float64\n",
       "NaturalGas(therms)                                               float64\n",
       "NaturalGas(kBtu)                                                 float64\n",
       "OtherFuelUse(kBtu)                                               float64\n",
       "GHGEmissions(MetricTonsCO2e)                                     float64\n",
       "GHGEmissionsIntensity(kgCO2e/ft2)                                float64\n",
       "DefaultData                                                       object\n",
       "Comment                                                           object\n",
       "ComplianceStatus                                                  object\n",
       "Outlier                                                           object\n",
       "2010 Census Tracts                                               float64\n",
       "Seattle Police Department Micro Community Policing Plan Areas    float64\n",
       "City Council Districts                                           float64\n",
       "SPD Beats                                                        float64\n",
       "Zip Codes                                                          int64\n",
       "dtype: object"
      ]
     },
     "execution_count": 2,
     "metadata": {},
     "output_type": "execute_result"
    }
   ],
   "source": [
    "# tipos de dados do data set\n",
    "df.dtypes"
   ]
  },
  {
   "cell_type": "code",
   "execution_count": 3,
   "id": "14690845",
   "metadata": {},
   "outputs": [],
   "source": [
    "# mudando o tipo de uma coluna\n",
    "df['DataYear'] = df['DataYear'].astype(object)"
   ]
  },
  {
   "cell_type": "code",
   "execution_count": 4,
   "id": "97eda286",
   "metadata": {},
   "outputs": [
    {
     "data": {
      "text/plain": [
       "OSEBuildingID                                                      int64\n",
       "DataYear                                                          object\n",
       "BuildingType                                                      object\n",
       "PrimaryPropertyType                                               object\n",
       "PropertyName                                                      object\n",
       "TaxParcelIdentificationNumber                                     object\n",
       "Location                                                          object\n",
       "CouncilDistrictCode                                                int64\n",
       "Neighborhood                                                      object\n",
       "YearBuilt                                                          int64\n",
       "NumberofBuildings                                                  int64\n",
       "NumberofFloors                                                   float64\n",
       "PropertyGFATotal                                                   int64\n",
       "PropertyGFAParking                                                 int64\n",
       "PropertyGFABuilding(s)                                             int64\n",
       "ListOfAllPropertyUseTypes                                         object\n",
       "LargestPropertyUseType                                            object\n",
       "LargestPropertyUseTypeGFA                                        float64\n",
       "SecondLargestPropertyUseType                                      object\n",
       "SecondLargestPropertyUseTypeGFA                                  float64\n",
       "ThirdLargestPropertyUseType                                       object\n",
       "ThirdLargestPropertyUseTypeGFA                                   float64\n",
       "YearsENERGYSTARCertified                                          object\n",
       "ENERGYSTARScore                                                  float64\n",
       "SiteEUI(kBtu/sf)                                                 float64\n",
       "SiteEUIWN(kBtu/sf)                                               float64\n",
       "SourceEUI(kBtu/sf)                                               float64\n",
       "SourceEUIWN(kBtu/sf)                                             float64\n",
       "SiteEnergyUse(kBtu)                                              float64\n",
       "SiteEnergyUseWN(kBtu)                                            float64\n",
       "SteamUse(kBtu)                                                   float64\n",
       "Electricity(kWh)                                                 float64\n",
       "Electricity(kBtu)                                                float64\n",
       "NaturalGas(therms)                                               float64\n",
       "NaturalGas(kBtu)                                                 float64\n",
       "OtherFuelUse(kBtu)                                               float64\n",
       "GHGEmissions(MetricTonsCO2e)                                     float64\n",
       "GHGEmissionsIntensity(kgCO2e/ft2)                                float64\n",
       "DefaultData                                                       object\n",
       "Comment                                                           object\n",
       "ComplianceStatus                                                  object\n",
       "Outlier                                                           object\n",
       "2010 Census Tracts                                               float64\n",
       "Seattle Police Department Micro Community Policing Plan Areas    float64\n",
       "City Council Districts                                           float64\n",
       "SPD Beats                                                        float64\n",
       "Zip Codes                                                          int64\n",
       "dtype: object"
      ]
     },
     "execution_count": 4,
     "metadata": {},
     "output_type": "execute_result"
    }
   ],
   "source": [
    "df.dtypes"
   ]
  }
 ],
 "metadata": {
  "kernelspec": {
   "display_name": "Python 3 (ipykernel)",
   "language": "python",
   "name": "python3"
  },
  "language_info": {
   "codemirror_mode": {
    "name": "ipython",
    "version": 3
   },
   "file_extension": ".py",
   "mimetype": "text/x-python",
   "name": "python",
   "nbconvert_exporter": "python",
   "pygments_lexer": "ipython3",
   "version": "3.9.12"
  }
 },
 "nbformat": 4,
 "nbformat_minor": 5
}
