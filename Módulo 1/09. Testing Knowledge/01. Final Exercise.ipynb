{
  "nbformat": 4,
  "nbformat_minor": 0,
  "metadata": {
    "colab": {
      "provenance": []
    },
    "kernelspec": {
      "name": "python3",
      "display_name": "Python 3"
    },
    "language_info": {
      "name": "python"
    },
    "accelerator": "GPU",
    "gpuClass": "standard"
  },
  "cells": [
    {
      "cell_type": "code",
      "execution_count": null,
      "metadata": {
        "colab": {
          "base_uri": "https://localhost:8080/",
          "height": 531
        },
        "id": "THGv-Fc7-QLY",
        "outputId": "99f4b1e3-a189-4db3-94d5-f2e9c195e16c"
      },
      "outputs": [
        {
          "output_type": "execute_result",
          "data": {
            "text/plain": [
              "   BeerID                             Name  \\\n",
              "0       1                Vanilla Cream Ale   \n",
              "1       2      Southern Tier Pumking clone   \n",
              "2       3      Zombie Dust Clone - EXTRACT   \n",
              "3       4    Zombie Dust Clone - ALL GRAIN   \n",
              "4       5  Bakke Brygg Belgisk Blonde 50 l   \n",
              "\n",
              "                                                 URL  \\\n",
              "0       /homebrew/recipe/view/1633/vanilla-cream-ale   \n",
              "1  /homebrew/recipe/view/16367/southern-tier-pumk...   \n",
              "2  /homebrew/recipe/view/5920/zombie-dust-clone-e...   \n",
              "3  /homebrew/recipe/view/5916/zombie-dust-clone-a...   \n",
              "4  /homebrew/recipe/view/89534/bakke-brygg-belgis...   \n",
              "\n",
              "                                Style  StyleID  Size(L)     OG     FG   ABV  \\\n",
              "0                           Cream Ale       45    21.77  1.055  1.013  5.48   \n",
              "1  Holiday/Winter Special Spiced Beer       85    20.82  1.083  1.021  8.16   \n",
              "2                        American IPA        7    18.93  1.063  1.018  5.91   \n",
              "3                        American IPA        7    22.71  1.061  1.017  5.80   \n",
              "4                   Belgian Blond Ale       20    50.00  1.060  1.010  6.48   \n",
              "\n",
              "     IBU  Color  BoilSize  BoilTime  BoilGravity  Efficiency  MashThickness  \\\n",
              "0  17.65   4.83     28.39      75.0        1.038        70.0            NaN   \n",
              "1  60.65  15.64     24.61      60.0        1.070        70.0            NaN   \n",
              "2  59.25   8.98     22.71      60.0          NaN        70.0            NaN   \n",
              "3  54.48   8.50     26.50      60.0          NaN        70.0            NaN   \n",
              "4  17.84   4.57     60.00      90.0        1.050        72.0            NaN   \n",
              "\n",
              "         SugarScale BrewMethod  PitchRate  PrimaryTemp PrimingMethod  \\\n",
              "0  Specific Gravity  All Grain        NaN        17.78    corn sugar   \n",
              "1  Specific Gravity  All Grain        NaN          NaN           NaN   \n",
              "2  Specific Gravity    extract        NaN          NaN           NaN   \n",
              "3  Specific Gravity  All Grain        NaN          NaN           NaN   \n",
              "4  Specific Gravity  All Grain        NaN        19.00    Sukkerlake   \n",
              "\n",
              "    PrimingAmount   UserId  \n",
              "0          4.5 oz    116.0  \n",
              "1             NaN    955.0  \n",
              "2             NaN      NaN  \n",
              "3             NaN      NaN  \n",
              "4  6-7 g sukker/l  18325.0  "
            ],
            "text/html": [
              "\n",
              "  <div id=\"df-7e5b264b-2555-4415-a524-52029aaa0e00\">\n",
              "    <div class=\"colab-df-container\">\n",
              "      <div>\n",
              "<style scoped>\n",
              "    .dataframe tbody tr th:only-of-type {\n",
              "        vertical-align: middle;\n",
              "    }\n",
              "\n",
              "    .dataframe tbody tr th {\n",
              "        vertical-align: top;\n",
              "    }\n",
              "\n",
              "    .dataframe thead th {\n",
              "        text-align: right;\n",
              "    }\n",
              "</style>\n",
              "<table border=\"1\" class=\"dataframe\">\n",
              "  <thead>\n",
              "    <tr style=\"text-align: right;\">\n",
              "      <th></th>\n",
              "      <th>BeerID</th>\n",
              "      <th>Name</th>\n",
              "      <th>URL</th>\n",
              "      <th>Style</th>\n",
              "      <th>StyleID</th>\n",
              "      <th>Size(L)</th>\n",
              "      <th>OG</th>\n",
              "      <th>FG</th>\n",
              "      <th>ABV</th>\n",
              "      <th>IBU</th>\n",
              "      <th>Color</th>\n",
              "      <th>BoilSize</th>\n",
              "      <th>BoilTime</th>\n",
              "      <th>BoilGravity</th>\n",
              "      <th>Efficiency</th>\n",
              "      <th>MashThickness</th>\n",
              "      <th>SugarScale</th>\n",
              "      <th>BrewMethod</th>\n",
              "      <th>PitchRate</th>\n",
              "      <th>PrimaryTemp</th>\n",
              "      <th>PrimingMethod</th>\n",
              "      <th>PrimingAmount</th>\n",
              "      <th>UserId</th>\n",
              "    </tr>\n",
              "  </thead>\n",
              "  <tbody>\n",
              "    <tr>\n",
              "      <th>0</th>\n",
              "      <td>1</td>\n",
              "      <td>Vanilla Cream Ale</td>\n",
              "      <td>/homebrew/recipe/view/1633/vanilla-cream-ale</td>\n",
              "      <td>Cream Ale</td>\n",
              "      <td>45</td>\n",
              "      <td>21.77</td>\n",
              "      <td>1.055</td>\n",
              "      <td>1.013</td>\n",
              "      <td>5.48</td>\n",
              "      <td>17.65</td>\n",
              "      <td>4.83</td>\n",
              "      <td>28.39</td>\n",
              "      <td>75.0</td>\n",
              "      <td>1.038</td>\n",
              "      <td>70.0</td>\n",
              "      <td>NaN</td>\n",
              "      <td>Specific Gravity</td>\n",
              "      <td>All Grain</td>\n",
              "      <td>NaN</td>\n",
              "      <td>17.78</td>\n",
              "      <td>corn sugar</td>\n",
              "      <td>4.5 oz</td>\n",
              "      <td>116.0</td>\n",
              "    </tr>\n",
              "    <tr>\n",
              "      <th>1</th>\n",
              "      <td>2</td>\n",
              "      <td>Southern Tier Pumking clone</td>\n",
              "      <td>/homebrew/recipe/view/16367/southern-tier-pumk...</td>\n",
              "      <td>Holiday/Winter Special Spiced Beer</td>\n",
              "      <td>85</td>\n",
              "      <td>20.82</td>\n",
              "      <td>1.083</td>\n",
              "      <td>1.021</td>\n",
              "      <td>8.16</td>\n",
              "      <td>60.65</td>\n",
              "      <td>15.64</td>\n",
              "      <td>24.61</td>\n",
              "      <td>60.0</td>\n",
              "      <td>1.070</td>\n",
              "      <td>70.0</td>\n",
              "      <td>NaN</td>\n",
              "      <td>Specific Gravity</td>\n",
              "      <td>All Grain</td>\n",
              "      <td>NaN</td>\n",
              "      <td>NaN</td>\n",
              "      <td>NaN</td>\n",
              "      <td>NaN</td>\n",
              "      <td>955.0</td>\n",
              "    </tr>\n",
              "    <tr>\n",
              "      <th>2</th>\n",
              "      <td>3</td>\n",
              "      <td>Zombie Dust Clone - EXTRACT</td>\n",
              "      <td>/homebrew/recipe/view/5920/zombie-dust-clone-e...</td>\n",
              "      <td>American IPA</td>\n",
              "      <td>7</td>\n",
              "      <td>18.93</td>\n",
              "      <td>1.063</td>\n",
              "      <td>1.018</td>\n",
              "      <td>5.91</td>\n",
              "      <td>59.25</td>\n",
              "      <td>8.98</td>\n",
              "      <td>22.71</td>\n",
              "      <td>60.0</td>\n",
              "      <td>NaN</td>\n",
              "      <td>70.0</td>\n",
              "      <td>NaN</td>\n",
              "      <td>Specific Gravity</td>\n",
              "      <td>extract</td>\n",
              "      <td>NaN</td>\n",
              "      <td>NaN</td>\n",
              "      <td>NaN</td>\n",
              "      <td>NaN</td>\n",
              "      <td>NaN</td>\n",
              "    </tr>\n",
              "    <tr>\n",
              "      <th>3</th>\n",
              "      <td>4</td>\n",
              "      <td>Zombie Dust Clone - ALL GRAIN</td>\n",
              "      <td>/homebrew/recipe/view/5916/zombie-dust-clone-a...</td>\n",
              "      <td>American IPA</td>\n",
              "      <td>7</td>\n",
              "      <td>22.71</td>\n",
              "      <td>1.061</td>\n",
              "      <td>1.017</td>\n",
              "      <td>5.80</td>\n",
              "      <td>54.48</td>\n",
              "      <td>8.50</td>\n",
              "      <td>26.50</td>\n",
              "      <td>60.0</td>\n",
              "      <td>NaN</td>\n",
              "      <td>70.0</td>\n",
              "      <td>NaN</td>\n",
              "      <td>Specific Gravity</td>\n",
              "      <td>All Grain</td>\n",
              "      <td>NaN</td>\n",
              "      <td>NaN</td>\n",
              "      <td>NaN</td>\n",
              "      <td>NaN</td>\n",
              "      <td>NaN</td>\n",
              "    </tr>\n",
              "    <tr>\n",
              "      <th>4</th>\n",
              "      <td>5</td>\n",
              "      <td>Bakke Brygg Belgisk Blonde 50 l</td>\n",
              "      <td>/homebrew/recipe/view/89534/bakke-brygg-belgis...</td>\n",
              "      <td>Belgian Blond Ale</td>\n",
              "      <td>20</td>\n",
              "      <td>50.00</td>\n",
              "      <td>1.060</td>\n",
              "      <td>1.010</td>\n",
              "      <td>6.48</td>\n",
              "      <td>17.84</td>\n",
              "      <td>4.57</td>\n",
              "      <td>60.00</td>\n",
              "      <td>90.0</td>\n",
              "      <td>1.050</td>\n",
              "      <td>72.0</td>\n",
              "      <td>NaN</td>\n",
              "      <td>Specific Gravity</td>\n",
              "      <td>All Grain</td>\n",
              "      <td>NaN</td>\n",
              "      <td>19.00</td>\n",
              "      <td>Sukkerlake</td>\n",
              "      <td>6-7 g sukker/l</td>\n",
              "      <td>18325.0</td>\n",
              "    </tr>\n",
              "  </tbody>\n",
              "</table>\n",
              "</div>\n",
              "      <button class=\"colab-df-convert\" onclick=\"convertToInteractive('df-7e5b264b-2555-4415-a524-52029aaa0e00')\"\n",
              "              title=\"Convert this dataframe to an interactive table.\"\n",
              "              style=\"display:none;\">\n",
              "        \n",
              "  <svg xmlns=\"http://www.w3.org/2000/svg\" height=\"24px\"viewBox=\"0 0 24 24\"\n",
              "       width=\"24px\">\n",
              "    <path d=\"M0 0h24v24H0V0z\" fill=\"none\"/>\n",
              "    <path d=\"M18.56 5.44l.94 2.06.94-2.06 2.06-.94-2.06-.94-.94-2.06-.94 2.06-2.06.94zm-11 1L8.5 8.5l.94-2.06 2.06-.94-2.06-.94L8.5 2.5l-.94 2.06-2.06.94zm10 10l.94 2.06.94-2.06 2.06-.94-2.06-.94-.94-2.06-.94 2.06-2.06.94z\"/><path d=\"M17.41 7.96l-1.37-1.37c-.4-.4-.92-.59-1.43-.59-.52 0-1.04.2-1.43.59L10.3 9.45l-7.72 7.72c-.78.78-.78 2.05 0 2.83L4 21.41c.39.39.9.59 1.41.59.51 0 1.02-.2 1.41-.59l7.78-7.78 2.81-2.81c.8-.78.8-2.07 0-2.86zM5.41 20L4 18.59l7.72-7.72 1.47 1.35L5.41 20z\"/>\n",
              "  </svg>\n",
              "      </button>\n",
              "      \n",
              "  <style>\n",
              "    .colab-df-container {\n",
              "      display:flex;\n",
              "      flex-wrap:wrap;\n",
              "      gap: 12px;\n",
              "    }\n",
              "\n",
              "    .colab-df-convert {\n",
              "      background-color: #E8F0FE;\n",
              "      border: none;\n",
              "      border-radius: 50%;\n",
              "      cursor: pointer;\n",
              "      display: none;\n",
              "      fill: #1967D2;\n",
              "      height: 32px;\n",
              "      padding: 0 0 0 0;\n",
              "      width: 32px;\n",
              "    }\n",
              "\n",
              "    .colab-df-convert:hover {\n",
              "      background-color: #E2EBFA;\n",
              "      box-shadow: 0px 1px 2px rgba(60, 64, 67, 0.3), 0px 1px 3px 1px rgba(60, 64, 67, 0.15);\n",
              "      fill: #174EA6;\n",
              "    }\n",
              "\n",
              "    [theme=dark] .colab-df-convert {\n",
              "      background-color: #3B4455;\n",
              "      fill: #D2E3FC;\n",
              "    }\n",
              "\n",
              "    [theme=dark] .colab-df-convert:hover {\n",
              "      background-color: #434B5C;\n",
              "      box-shadow: 0px 1px 3px 1px rgba(0, 0, 0, 0.15);\n",
              "      filter: drop-shadow(0px 1px 2px rgba(0, 0, 0, 0.3));\n",
              "      fill: #FFFFFF;\n",
              "    }\n",
              "  </style>\n",
              "\n",
              "      <script>\n",
              "        const buttonEl =\n",
              "          document.querySelector('#df-7e5b264b-2555-4415-a524-52029aaa0e00 button.colab-df-convert');\n",
              "        buttonEl.style.display =\n",
              "          google.colab.kernel.accessAllowed ? 'block' : 'none';\n",
              "\n",
              "        async function convertToInteractive(key) {\n",
              "          const element = document.querySelector('#df-7e5b264b-2555-4415-a524-52029aaa0e00');\n",
              "          const dataTable =\n",
              "            await google.colab.kernel.invokeFunction('convertToInteractive',\n",
              "                                                     [key], {});\n",
              "          if (!dataTable) return;\n",
              "\n",
              "          const docLinkHtml = 'Like what you see? Visit the ' +\n",
              "            '<a target=\"_blank\" href=https://colab.research.google.com/notebooks/data_table.ipynb>data table notebook</a>'\n",
              "            + ' to learn more about interactive tables.';\n",
              "          element.innerHTML = '';\n",
              "          dataTable['output_type'] = 'display_data';\n",
              "          await google.colab.output.renderOutput(dataTable, element);\n",
              "          const docLink = document.createElement('div');\n",
              "          docLink.innerHTML = docLinkHtml;\n",
              "          element.appendChild(docLink);\n",
              "        }\n",
              "      </script>\n",
              "    </div>\n",
              "  </div>\n",
              "  "
            ]
          },
          "metadata": {},
          "execution_count": 2
        }
      ],
      "source": [
        "import pandas as pd \n",
        "pd.set_option('display.max_columns', 23)\n",
        "df = pd.read_csv('recipeData.csv',  encoding= 'ISO-8859-1')\n",
        "df.head()"
      ]
    },
    {
      "cell_type": "code",
      "source": [
        "def porcentagem_faltantes(df):\n",
        "    faltantes = df.isnull().sum()\n",
        "    faltantes_percentual = (faltantes/df.shape[0]) * 100\n",
        "    return faltantes_percentual"
      ],
      "metadata": {
        "id": "eIY0s9rj-WTF"
      },
      "execution_count": null,
      "outputs": []
    },
    {
      "cell_type": "code",
      "source": [
        "porcentagem_faltantes(df)"
      ],
      "metadata": {
        "colab": {
          "base_uri": "https://localhost:8080/"
        },
        "id": "pHjRrG6F-WVi",
        "outputId": "7d785ece-74e8-460d-b098-08ec4cfb66f8"
      },
      "execution_count": null,
      "outputs": [
        {
          "output_type": "execute_result",
          "data": {
            "text/plain": [
              "BeerID            0.000000\n",
              "Name              0.001806\n",
              "URL               0.000000\n",
              "Style             0.865058\n",
              "StyleID           0.000000\n",
              "Size(L)           0.000000\n",
              "OG                0.000000\n",
              "FG                0.000000\n",
              "ABV               0.000000\n",
              "IBU               0.001806\n",
              "Color             0.001806\n",
              "BoilSize          0.001806\n",
              "BoilTime          0.001806\n",
              "BoilGravity       5.392617\n",
              "Efficiency        0.001806\n",
              "MashThickness    41.932746\n",
              "SugarScale        0.001806\n",
              "BrewMethod        0.001806\n",
              "PitchRate        52.658383\n",
              "PrimaryTemp      30.580438\n",
              "PrimingMethod    90.242361\n",
              "PrimingAmount    93.016326\n",
              "UserId           66.589612\n",
              "dtype: float64"
            ]
          },
          "metadata": {},
          "execution_count": 4
        }
      ]
    },
    {
      "cell_type": "code",
      "source": [
        "df['StyleID'].value_counts()"
      ],
      "metadata": {
        "colab": {
          "base_uri": "https://localhost:8080/"
        },
        "id": "brx7-CK4-WYG",
        "outputId": "b302c58a-ce07-4e77-ea40-6910bb6efd21"
      },
      "execution_count": null,
      "outputs": [
        {
          "output_type": "execute_result",
          "data": {
            "text/plain": [
              "7      8698\n",
              "10     5473\n",
              "134    1905\n",
              "4      1576\n",
              "86     1348\n",
              "       ... \n",
              "99        6\n",
              "16        5\n",
              "127       4\n",
              "73        2\n",
              "164       2\n",
              "Name: StyleID, Length: 176, dtype: int64"
            ]
          },
          "metadata": {},
          "execution_count": 5
        }
      ]
    },
    {
      "cell_type": "code",
      "source": [
        "# selecionar as linhas onde tem mais de 1000 amostras\n",
        "selecao = df.loc[df['StyleID'].isin([7, 10, 134, 9, 4, 30, 86, 12, 92, 6, 175, 39])]\n",
        "selecao.shape"
      ],
      "metadata": {
        "colab": {
          "base_uri": "https://localhost:8080/"
        },
        "id": "5bu314JK-Wat",
        "outputId": "12724127-e64e-437f-97b9-8f4c876130c1"
      },
      "execution_count": null,
      "outputs": [
        {
          "output_type": "execute_result",
          "data": {
            "text/plain": [
              "(25998, 23)"
            ]
          },
          "metadata": {},
          "execution_count": 6
        }
      ]
    },
    {
      "cell_type": "code",
      "source": [
        "selecao.drop('BeerID', axis=1, inplace=True)\n",
        "selecao.drop('Name', axis=1, inplace=True)\n",
        "selecao.drop('URL', axis=1, inplace=True)\n",
        "selecao.drop('Style', axis=1, inplace=True)\n",
        "selecao.drop('UserId', axis=1, inplace=True)\n",
        "selecao.drop('PrimingMethod', axis=1, inplace=True)\n",
        "selecao.drop('PrimingAmount', axis=1, inplace=True)"
      ],
      "metadata": {
        "colab": {
          "base_uri": "https://localhost:8080/"
        },
        "id": "M_T9RRw1-WdL",
        "outputId": "f960fbce-f68e-4ea7-b459-b56969d6e3fc"
      },
      "execution_count": null,
      "outputs": [
        {
          "output_type": "stream",
          "name": "stderr",
          "text": [
            "<ipython-input-7-5badf94e61dc>:1: SettingWithCopyWarning: \n",
            "A value is trying to be set on a copy of a slice from a DataFrame\n",
            "\n",
            "See the caveats in the documentation: https://pandas.pydata.org/pandas-docs/stable/user_guide/indexing.html#returning-a-view-versus-a-copy\n",
            "  selecao.drop('BeerID', axis=1, inplace=True)\n",
            "<ipython-input-7-5badf94e61dc>:2: SettingWithCopyWarning: \n",
            "A value is trying to be set on a copy of a slice from a DataFrame\n",
            "\n",
            "See the caveats in the documentation: https://pandas.pydata.org/pandas-docs/stable/user_guide/indexing.html#returning-a-view-versus-a-copy\n",
            "  selecao.drop('Name', axis=1, inplace=True)\n",
            "<ipython-input-7-5badf94e61dc>:3: SettingWithCopyWarning: \n",
            "A value is trying to be set on a copy of a slice from a DataFrame\n",
            "\n",
            "See the caveats in the documentation: https://pandas.pydata.org/pandas-docs/stable/user_guide/indexing.html#returning-a-view-versus-a-copy\n",
            "  selecao.drop('URL', axis=1, inplace=True)\n",
            "<ipython-input-7-5badf94e61dc>:4: SettingWithCopyWarning: \n",
            "A value is trying to be set on a copy of a slice from a DataFrame\n",
            "\n",
            "See the caveats in the documentation: https://pandas.pydata.org/pandas-docs/stable/user_guide/indexing.html#returning-a-view-versus-a-copy\n",
            "  selecao.drop('Style', axis=1, inplace=True)\n",
            "<ipython-input-7-5badf94e61dc>:5: SettingWithCopyWarning: \n",
            "A value is trying to be set on a copy of a slice from a DataFrame\n",
            "\n",
            "See the caveats in the documentation: https://pandas.pydata.org/pandas-docs/stable/user_guide/indexing.html#returning-a-view-versus-a-copy\n",
            "  selecao.drop('UserId', axis=1, inplace=True)\n",
            "<ipython-input-7-5badf94e61dc>:6: SettingWithCopyWarning: \n",
            "A value is trying to be set on a copy of a slice from a DataFrame\n",
            "\n",
            "See the caveats in the documentation: https://pandas.pydata.org/pandas-docs/stable/user_guide/indexing.html#returning-a-view-versus-a-copy\n",
            "  selecao.drop('PrimingMethod', axis=1, inplace=True)\n",
            "<ipython-input-7-5badf94e61dc>:7: SettingWithCopyWarning: \n",
            "A value is trying to be set on a copy of a slice from a DataFrame\n",
            "\n",
            "See the caveats in the documentation: https://pandas.pydata.org/pandas-docs/stable/user_guide/indexing.html#returning-a-view-versus-a-copy\n",
            "  selecao.drop('PrimingAmount', axis=1, inplace=True)\n"
          ]
        }
      ]
    },
    {
      "cell_type": "code",
      "source": [
        "selecao.head()"
      ],
      "metadata": {
        "colab": {
          "base_uri": "https://localhost:8080/",
          "height": 357
        },
        "id": "5BTwn6JU-Wif",
        "outputId": "c44b30f3-ec41-4afd-b849-ca73acd992e4"
      },
      "execution_count": null,
      "outputs": [
        {
          "output_type": "execute_result",
          "data": {
            "text/plain": [
              "   StyleID  Size(L)     OG     FG   ABV     IBU  Color  BoilSize  BoilTime  \\\n",
              "2        7    18.93  1.063  1.018  5.91   59.25   8.98     22.71      60.0   \n",
              "3        7    22.71  1.061  1.017  5.80   54.48   8.50     26.50      60.0   \n",
              "5       10    24.61  1.055  1.013  5.58   40.12   8.00     29.34      70.0   \n",
              "6       86    22.71  1.072  1.018  7.09  268.71   6.33     30.28      90.0   \n",
              "9       86    20.82  1.080  1.017  8.22   93.02   8.29     28.39      60.0   \n",
              "\n",
              "   BoilGravity  Efficiency  MashThickness        SugarScale BrewMethod  \\\n",
              "2          NaN        70.0            NaN  Specific Gravity    extract   \n",
              "3          NaN        70.0            NaN  Specific Gravity  All Grain   \n",
              "5        1.047        79.0            NaN  Specific Gravity  All Grain   \n",
              "6          NaN        75.0            NaN  Specific Gravity  All Grain   \n",
              "9        1.058        70.0            NaN  Specific Gravity  All Grain   \n",
              "\n",
              "   PitchRate  PrimaryTemp  \n",
              "2        NaN          NaN  \n",
              "3        NaN          NaN  \n",
              "5        1.0          NaN  \n",
              "6        NaN          NaN  \n",
              "9        NaN        21.11  "
            ],
            "text/html": [
              "\n",
              "  <div id=\"df-f5d2359d-1566-45ee-8733-4a86fa8f991e\">\n",
              "    <div class=\"colab-df-container\">\n",
              "      <div>\n",
              "<style scoped>\n",
              "    .dataframe tbody tr th:only-of-type {\n",
              "        vertical-align: middle;\n",
              "    }\n",
              "\n",
              "    .dataframe tbody tr th {\n",
              "        vertical-align: top;\n",
              "    }\n",
              "\n",
              "    .dataframe thead th {\n",
              "        text-align: right;\n",
              "    }\n",
              "</style>\n",
              "<table border=\"1\" class=\"dataframe\">\n",
              "  <thead>\n",
              "    <tr style=\"text-align: right;\">\n",
              "      <th></th>\n",
              "      <th>StyleID</th>\n",
              "      <th>Size(L)</th>\n",
              "      <th>OG</th>\n",
              "      <th>FG</th>\n",
              "      <th>ABV</th>\n",
              "      <th>IBU</th>\n",
              "      <th>Color</th>\n",
              "      <th>BoilSize</th>\n",
              "      <th>BoilTime</th>\n",
              "      <th>BoilGravity</th>\n",
              "      <th>Efficiency</th>\n",
              "      <th>MashThickness</th>\n",
              "      <th>SugarScale</th>\n",
              "      <th>BrewMethod</th>\n",
              "      <th>PitchRate</th>\n",
              "      <th>PrimaryTemp</th>\n",
              "    </tr>\n",
              "  </thead>\n",
              "  <tbody>\n",
              "    <tr>\n",
              "      <th>2</th>\n",
              "      <td>7</td>\n",
              "      <td>18.93</td>\n",
              "      <td>1.063</td>\n",
              "      <td>1.018</td>\n",
              "      <td>5.91</td>\n",
              "      <td>59.25</td>\n",
              "      <td>8.98</td>\n",
              "      <td>22.71</td>\n",
              "      <td>60.0</td>\n",
              "      <td>NaN</td>\n",
              "      <td>70.0</td>\n",
              "      <td>NaN</td>\n",
              "      <td>Specific Gravity</td>\n",
              "      <td>extract</td>\n",
              "      <td>NaN</td>\n",
              "      <td>NaN</td>\n",
              "    </tr>\n",
              "    <tr>\n",
              "      <th>3</th>\n",
              "      <td>7</td>\n",
              "      <td>22.71</td>\n",
              "      <td>1.061</td>\n",
              "      <td>1.017</td>\n",
              "      <td>5.80</td>\n",
              "      <td>54.48</td>\n",
              "      <td>8.50</td>\n",
              "      <td>26.50</td>\n",
              "      <td>60.0</td>\n",
              "      <td>NaN</td>\n",
              "      <td>70.0</td>\n",
              "      <td>NaN</td>\n",
              "      <td>Specific Gravity</td>\n",
              "      <td>All Grain</td>\n",
              "      <td>NaN</td>\n",
              "      <td>NaN</td>\n",
              "    </tr>\n",
              "    <tr>\n",
              "      <th>5</th>\n",
              "      <td>10</td>\n",
              "      <td>24.61</td>\n",
              "      <td>1.055</td>\n",
              "      <td>1.013</td>\n",
              "      <td>5.58</td>\n",
              "      <td>40.12</td>\n",
              "      <td>8.00</td>\n",
              "      <td>29.34</td>\n",
              "      <td>70.0</td>\n",
              "      <td>1.047</td>\n",
              "      <td>79.0</td>\n",
              "      <td>NaN</td>\n",
              "      <td>Specific Gravity</td>\n",
              "      <td>All Grain</td>\n",
              "      <td>1.0</td>\n",
              "      <td>NaN</td>\n",
              "    </tr>\n",
              "    <tr>\n",
              "      <th>6</th>\n",
              "      <td>86</td>\n",
              "      <td>22.71</td>\n",
              "      <td>1.072</td>\n",
              "      <td>1.018</td>\n",
              "      <td>7.09</td>\n",
              "      <td>268.71</td>\n",
              "      <td>6.33</td>\n",
              "      <td>30.28</td>\n",
              "      <td>90.0</td>\n",
              "      <td>NaN</td>\n",
              "      <td>75.0</td>\n",
              "      <td>NaN</td>\n",
              "      <td>Specific Gravity</td>\n",
              "      <td>All Grain</td>\n",
              "      <td>NaN</td>\n",
              "      <td>NaN</td>\n",
              "    </tr>\n",
              "    <tr>\n",
              "      <th>9</th>\n",
              "      <td>86</td>\n",
              "      <td>20.82</td>\n",
              "      <td>1.080</td>\n",
              "      <td>1.017</td>\n",
              "      <td>8.22</td>\n",
              "      <td>93.02</td>\n",
              "      <td>8.29</td>\n",
              "      <td>28.39</td>\n",
              "      <td>60.0</td>\n",
              "      <td>1.058</td>\n",
              "      <td>70.0</td>\n",
              "      <td>NaN</td>\n",
              "      <td>Specific Gravity</td>\n",
              "      <td>All Grain</td>\n",
              "      <td>NaN</td>\n",
              "      <td>21.11</td>\n",
              "    </tr>\n",
              "  </tbody>\n",
              "</table>\n",
              "</div>\n",
              "      <button class=\"colab-df-convert\" onclick=\"convertToInteractive('df-f5d2359d-1566-45ee-8733-4a86fa8f991e')\"\n",
              "              title=\"Convert this dataframe to an interactive table.\"\n",
              "              style=\"display:none;\">\n",
              "        \n",
              "  <svg xmlns=\"http://www.w3.org/2000/svg\" height=\"24px\"viewBox=\"0 0 24 24\"\n",
              "       width=\"24px\">\n",
              "    <path d=\"M0 0h24v24H0V0z\" fill=\"none\"/>\n",
              "    <path d=\"M18.56 5.44l.94 2.06.94-2.06 2.06-.94-2.06-.94-.94-2.06-.94 2.06-2.06.94zm-11 1L8.5 8.5l.94-2.06 2.06-.94-2.06-.94L8.5 2.5l-.94 2.06-2.06.94zm10 10l.94 2.06.94-2.06 2.06-.94-2.06-.94-.94-2.06-.94 2.06-2.06.94z\"/><path d=\"M17.41 7.96l-1.37-1.37c-.4-.4-.92-.59-1.43-.59-.52 0-1.04.2-1.43.59L10.3 9.45l-7.72 7.72c-.78.78-.78 2.05 0 2.83L4 21.41c.39.39.9.59 1.41.59.51 0 1.02-.2 1.41-.59l7.78-7.78 2.81-2.81c.8-.78.8-2.07 0-2.86zM5.41 20L4 18.59l7.72-7.72 1.47 1.35L5.41 20z\"/>\n",
              "  </svg>\n",
              "      </button>\n",
              "      \n",
              "  <style>\n",
              "    .colab-df-container {\n",
              "      display:flex;\n",
              "      flex-wrap:wrap;\n",
              "      gap: 12px;\n",
              "    }\n",
              "\n",
              "    .colab-df-convert {\n",
              "      background-color: #E8F0FE;\n",
              "      border: none;\n",
              "      border-radius: 50%;\n",
              "      cursor: pointer;\n",
              "      display: none;\n",
              "      fill: #1967D2;\n",
              "      height: 32px;\n",
              "      padding: 0 0 0 0;\n",
              "      width: 32px;\n",
              "    }\n",
              "\n",
              "    .colab-df-convert:hover {\n",
              "      background-color: #E2EBFA;\n",
              "      box-shadow: 0px 1px 2px rgba(60, 64, 67, 0.3), 0px 1px 3px 1px rgba(60, 64, 67, 0.15);\n",
              "      fill: #174EA6;\n",
              "    }\n",
              "\n",
              "    [theme=dark] .colab-df-convert {\n",
              "      background-color: #3B4455;\n",
              "      fill: #D2E3FC;\n",
              "    }\n",
              "\n",
              "    [theme=dark] .colab-df-convert:hover {\n",
              "      background-color: #434B5C;\n",
              "      box-shadow: 0px 1px 3px 1px rgba(0, 0, 0, 0.15);\n",
              "      filter: drop-shadow(0px 1px 2px rgba(0, 0, 0, 0.3));\n",
              "      fill: #FFFFFF;\n",
              "    }\n",
              "  </style>\n",
              "\n",
              "      <script>\n",
              "        const buttonEl =\n",
              "          document.querySelector('#df-f5d2359d-1566-45ee-8733-4a86fa8f991e button.colab-df-convert');\n",
              "        buttonEl.style.display =\n",
              "          google.colab.kernel.accessAllowed ? 'block' : 'none';\n",
              "\n",
              "        async function convertToInteractive(key) {\n",
              "          const element = document.querySelector('#df-f5d2359d-1566-45ee-8733-4a86fa8f991e');\n",
              "          const dataTable =\n",
              "            await google.colab.kernel.invokeFunction('convertToInteractive',\n",
              "                                                     [key], {});\n",
              "          if (!dataTable) return;\n",
              "\n",
              "          const docLinkHtml = 'Like what you see? Visit the ' +\n",
              "            '<a target=\"_blank\" href=https://colab.research.google.com/notebooks/data_table.ipynb>data table notebook</a>'\n",
              "            + ' to learn more about interactive tables.';\n",
              "          element.innerHTML = '';\n",
              "          dataTable['output_type'] = 'display_data';\n",
              "          await google.colab.output.renderOutput(dataTable, element);\n",
              "          const docLink = document.createElement('div');\n",
              "          docLink.innerHTML = docLinkHtml;\n",
              "          element.appendChild(docLink);\n",
              "        }\n",
              "      </script>\n",
              "    </div>\n",
              "  </div>\n",
              "  "
            ]
          },
          "metadata": {},
          "execution_count": 8
        }
      ]
    },
    {
      "cell_type": "code",
      "source": [
        "selecao.dtypes"
      ],
      "metadata": {
        "colab": {
          "base_uri": "https://localhost:8080/"
        },
        "id": "aqsphZAy-Wnv",
        "outputId": "8eef2122-8840-4208-80cd-917ba117e23f"
      },
      "execution_count": null,
      "outputs": [
        {
          "output_type": "execute_result",
          "data": {
            "text/plain": [
              "StyleID            int64\n",
              "Size(L)          float64\n",
              "OG               float64\n",
              "FG               float64\n",
              "ABV              float64\n",
              "IBU              float64\n",
              "Color            float64\n",
              "BoilSize         float64\n",
              "BoilTime         float64\n",
              "BoilGravity      float64\n",
              "Efficiency       float64\n",
              "MashThickness    float64\n",
              "SugarScale        object\n",
              "BrewMethod        object\n",
              "PitchRate        float64\n",
              "PrimaryTemp      float64\n",
              "dtype: object"
            ]
          },
          "metadata": {},
          "execution_count": 9
        }
      ]
    },
    {
      "cell_type": "code",
      "source": [
        "# vendo as informações das colunas que paresentaram tipos diferentes\n",
        "df['SugarScale'].value_counts()"
      ],
      "metadata": {
        "colab": {
          "base_uri": "https://localhost:8080/"
        },
        "id": "kWWadU3S-Wqh",
        "outputId": "14404324-317a-4a3d-cbb8-d2d0c0a25a1c"
      },
      "execution_count": null,
      "outputs": [
        {
          "output_type": "execute_result",
          "data": {
            "text/plain": [
              "Specific Gravity    53900\n",
              "Plato                1471\n",
              "Name: SugarScale, dtype: int64"
            ]
          },
          "metadata": {},
          "execution_count": 10
        }
      ]
    },
    {
      "cell_type": "code",
      "source": [
        "df['BrewMethod'].value_counts()"
      ],
      "metadata": {
        "colab": {
          "base_uri": "https://localhost:8080/"
        },
        "id": "FOk6TNjj-Wvl",
        "outputId": "92e89612-f2b7-4f5b-cdfd-3e82b45b765e"
      },
      "execution_count": null,
      "outputs": [
        {
          "output_type": "execute_result",
          "data": {
            "text/plain": [
              "All Grain       37241\n",
              "BIAB             8509\n",
              "extract          6774\n",
              "Partial Mash     2847\n",
              "Name: BrewMethod, dtype: int64"
            ]
          },
          "metadata": {},
          "execution_count": 11
        }
      ]
    },
    {
      "cell_type": "code",
      "source": [
        "# trocando os valores \n",
        "selecao['SugarScale'] = selecao['SugarScale'].replace('Specific Gravity', 0)\n",
        "selecao['SugarScale'] = selecao['SugarScale'].replace('Plato', 1)\n",
        "\n",
        "# transformando variáveis textos na coluna 'BrewMethod' em categorias com one hot encoding \n",
        "brewmethod_encode = pd.get_dummies(selecao['BrewMethod'])\n",
        "# excluindo a coluna texto 'BrewMethod\n",
        "selecao.drop('BrewMethod', axis=1, inplace=True)\n",
        "# inserindo as variáveis one hot encode novamente no dataset\n",
        "concatenando = pd.concat([selecao, brewmethod_encode], axis=1)"
      ],
      "metadata": {
        "colab": {
          "base_uri": "https://localhost:8080/"
        },
        "id": "lAQfJe11-fib",
        "outputId": "3e8cd199-c1a6-40b2-f7ef-7e38f3e651ec"
      },
      "execution_count": null,
      "outputs": [
        {
          "output_type": "stream",
          "name": "stderr",
          "text": [
            "<ipython-input-12-0f80b8790c2d>:2: SettingWithCopyWarning: \n",
            "A value is trying to be set on a copy of a slice from a DataFrame.\n",
            "Try using .loc[row_indexer,col_indexer] = value instead\n",
            "\n",
            "See the caveats in the documentation: https://pandas.pydata.org/pandas-docs/stable/user_guide/indexing.html#returning-a-view-versus-a-copy\n",
            "  selecao['SugarScale'] = selecao['SugarScale'].replace('Specific Gravity', 0)\n",
            "<ipython-input-12-0f80b8790c2d>:3: SettingWithCopyWarning: \n",
            "A value is trying to be set on a copy of a slice from a DataFrame.\n",
            "Try using .loc[row_indexer,col_indexer] = value instead\n",
            "\n",
            "See the caveats in the documentation: https://pandas.pydata.org/pandas-docs/stable/user_guide/indexing.html#returning-a-view-versus-a-copy\n",
            "  selecao['SugarScale'] = selecao['SugarScale'].replace('Plato', 1)\n",
            "<ipython-input-12-0f80b8790c2d>:8: SettingWithCopyWarning: \n",
            "A value is trying to be set on a copy of a slice from a DataFrame\n",
            "\n",
            "See the caveats in the documentation: https://pandas.pydata.org/pandas-docs/stable/user_guide/indexing.html#returning-a-view-versus-a-copy\n",
            "  selecao.drop('BrewMethod', axis=1, inplace=True)\n"
          ]
        }
      ]
    },
    {
      "cell_type": "code",
      "source": [
        "concatenando.head()"
      ],
      "metadata": {
        "colab": {
          "base_uri": "https://localhost:8080/",
          "height": 288
        },
        "id": "gEL9ibWZ-flO",
        "outputId": "238358c0-6186-447b-c679-b60f98c74a71"
      },
      "execution_count": null,
      "outputs": [
        {
          "output_type": "execute_result",
          "data": {
            "text/plain": [
              "   StyleID  Size(L)     OG     FG   ABV     IBU  Color  BoilSize  BoilTime  \\\n",
              "2        7    18.93  1.063  1.018  5.91   59.25   8.98     22.71      60.0   \n",
              "3        7    22.71  1.061  1.017  5.80   54.48   8.50     26.50      60.0   \n",
              "5       10    24.61  1.055  1.013  5.58   40.12   8.00     29.34      70.0   \n",
              "6       86    22.71  1.072  1.018  7.09  268.71   6.33     30.28      90.0   \n",
              "9       86    20.82  1.080  1.017  8.22   93.02   8.29     28.39      60.0   \n",
              "\n",
              "   BoilGravity  Efficiency  MashThickness  SugarScale  PitchRate  PrimaryTemp  \\\n",
              "2          NaN        70.0            NaN         0.0        NaN          NaN   \n",
              "3          NaN        70.0            NaN         0.0        NaN          NaN   \n",
              "5        1.047        79.0            NaN         0.0        1.0          NaN   \n",
              "6          NaN        75.0            NaN         0.0        NaN          NaN   \n",
              "9        1.058        70.0            NaN         0.0        NaN        21.11   \n",
              "\n",
              "   All Grain  BIAB  Partial Mash  extract  \n",
              "2          0     0             0        1  \n",
              "3          1     0             0        0  \n",
              "5          1     0             0        0  \n",
              "6          1     0             0        0  \n",
              "9          1     0             0        0  "
            ],
            "text/html": [
              "\n",
              "  <div id=\"df-2f0c8670-9969-46a7-a134-ddc6a779807d\">\n",
              "    <div class=\"colab-df-container\">\n",
              "      <div>\n",
              "<style scoped>\n",
              "    .dataframe tbody tr th:only-of-type {\n",
              "        vertical-align: middle;\n",
              "    }\n",
              "\n",
              "    .dataframe tbody tr th {\n",
              "        vertical-align: top;\n",
              "    }\n",
              "\n",
              "    .dataframe thead th {\n",
              "        text-align: right;\n",
              "    }\n",
              "</style>\n",
              "<table border=\"1\" class=\"dataframe\">\n",
              "  <thead>\n",
              "    <tr style=\"text-align: right;\">\n",
              "      <th></th>\n",
              "      <th>StyleID</th>\n",
              "      <th>Size(L)</th>\n",
              "      <th>OG</th>\n",
              "      <th>FG</th>\n",
              "      <th>ABV</th>\n",
              "      <th>IBU</th>\n",
              "      <th>Color</th>\n",
              "      <th>BoilSize</th>\n",
              "      <th>BoilTime</th>\n",
              "      <th>BoilGravity</th>\n",
              "      <th>Efficiency</th>\n",
              "      <th>MashThickness</th>\n",
              "      <th>SugarScale</th>\n",
              "      <th>PitchRate</th>\n",
              "      <th>PrimaryTemp</th>\n",
              "      <th>All Grain</th>\n",
              "      <th>BIAB</th>\n",
              "      <th>Partial Mash</th>\n",
              "      <th>extract</th>\n",
              "    </tr>\n",
              "  </thead>\n",
              "  <tbody>\n",
              "    <tr>\n",
              "      <th>2</th>\n",
              "      <td>7</td>\n",
              "      <td>18.93</td>\n",
              "      <td>1.063</td>\n",
              "      <td>1.018</td>\n",
              "      <td>5.91</td>\n",
              "      <td>59.25</td>\n",
              "      <td>8.98</td>\n",
              "      <td>22.71</td>\n",
              "      <td>60.0</td>\n",
              "      <td>NaN</td>\n",
              "      <td>70.0</td>\n",
              "      <td>NaN</td>\n",
              "      <td>0.0</td>\n",
              "      <td>NaN</td>\n",
              "      <td>NaN</td>\n",
              "      <td>0</td>\n",
              "      <td>0</td>\n",
              "      <td>0</td>\n",
              "      <td>1</td>\n",
              "    </tr>\n",
              "    <tr>\n",
              "      <th>3</th>\n",
              "      <td>7</td>\n",
              "      <td>22.71</td>\n",
              "      <td>1.061</td>\n",
              "      <td>1.017</td>\n",
              "      <td>5.80</td>\n",
              "      <td>54.48</td>\n",
              "      <td>8.50</td>\n",
              "      <td>26.50</td>\n",
              "      <td>60.0</td>\n",
              "      <td>NaN</td>\n",
              "      <td>70.0</td>\n",
              "      <td>NaN</td>\n",
              "      <td>0.0</td>\n",
              "      <td>NaN</td>\n",
              "      <td>NaN</td>\n",
              "      <td>1</td>\n",
              "      <td>0</td>\n",
              "      <td>0</td>\n",
              "      <td>0</td>\n",
              "    </tr>\n",
              "    <tr>\n",
              "      <th>5</th>\n",
              "      <td>10</td>\n",
              "      <td>24.61</td>\n",
              "      <td>1.055</td>\n",
              "      <td>1.013</td>\n",
              "      <td>5.58</td>\n",
              "      <td>40.12</td>\n",
              "      <td>8.00</td>\n",
              "      <td>29.34</td>\n",
              "      <td>70.0</td>\n",
              "      <td>1.047</td>\n",
              "      <td>79.0</td>\n",
              "      <td>NaN</td>\n",
              "      <td>0.0</td>\n",
              "      <td>1.0</td>\n",
              "      <td>NaN</td>\n",
              "      <td>1</td>\n",
              "      <td>0</td>\n",
              "      <td>0</td>\n",
              "      <td>0</td>\n",
              "    </tr>\n",
              "    <tr>\n",
              "      <th>6</th>\n",
              "      <td>86</td>\n",
              "      <td>22.71</td>\n",
              "      <td>1.072</td>\n",
              "      <td>1.018</td>\n",
              "      <td>7.09</td>\n",
              "      <td>268.71</td>\n",
              "      <td>6.33</td>\n",
              "      <td>30.28</td>\n",
              "      <td>90.0</td>\n",
              "      <td>NaN</td>\n",
              "      <td>75.0</td>\n",
              "      <td>NaN</td>\n",
              "      <td>0.0</td>\n",
              "      <td>NaN</td>\n",
              "      <td>NaN</td>\n",
              "      <td>1</td>\n",
              "      <td>0</td>\n",
              "      <td>0</td>\n",
              "      <td>0</td>\n",
              "    </tr>\n",
              "    <tr>\n",
              "      <th>9</th>\n",
              "      <td>86</td>\n",
              "      <td>20.82</td>\n",
              "      <td>1.080</td>\n",
              "      <td>1.017</td>\n",
              "      <td>8.22</td>\n",
              "      <td>93.02</td>\n",
              "      <td>8.29</td>\n",
              "      <td>28.39</td>\n",
              "      <td>60.0</td>\n",
              "      <td>1.058</td>\n",
              "      <td>70.0</td>\n",
              "      <td>NaN</td>\n",
              "      <td>0.0</td>\n",
              "      <td>NaN</td>\n",
              "      <td>21.11</td>\n",
              "      <td>1</td>\n",
              "      <td>0</td>\n",
              "      <td>0</td>\n",
              "      <td>0</td>\n",
              "    </tr>\n",
              "  </tbody>\n",
              "</table>\n",
              "</div>\n",
              "      <button class=\"colab-df-convert\" onclick=\"convertToInteractive('df-2f0c8670-9969-46a7-a134-ddc6a779807d')\"\n",
              "              title=\"Convert this dataframe to an interactive table.\"\n",
              "              style=\"display:none;\">\n",
              "        \n",
              "  <svg xmlns=\"http://www.w3.org/2000/svg\" height=\"24px\"viewBox=\"0 0 24 24\"\n",
              "       width=\"24px\">\n",
              "    <path d=\"M0 0h24v24H0V0z\" fill=\"none\"/>\n",
              "    <path d=\"M18.56 5.44l.94 2.06.94-2.06 2.06-.94-2.06-.94-.94-2.06-.94 2.06-2.06.94zm-11 1L8.5 8.5l.94-2.06 2.06-.94-2.06-.94L8.5 2.5l-.94 2.06-2.06.94zm10 10l.94 2.06.94-2.06 2.06-.94-2.06-.94-.94-2.06-.94 2.06-2.06.94z\"/><path d=\"M17.41 7.96l-1.37-1.37c-.4-.4-.92-.59-1.43-.59-.52 0-1.04.2-1.43.59L10.3 9.45l-7.72 7.72c-.78.78-.78 2.05 0 2.83L4 21.41c.39.39.9.59 1.41.59.51 0 1.02-.2 1.41-.59l7.78-7.78 2.81-2.81c.8-.78.8-2.07 0-2.86zM5.41 20L4 18.59l7.72-7.72 1.47 1.35L5.41 20z\"/>\n",
              "  </svg>\n",
              "      </button>\n",
              "      \n",
              "  <style>\n",
              "    .colab-df-container {\n",
              "      display:flex;\n",
              "      flex-wrap:wrap;\n",
              "      gap: 12px;\n",
              "    }\n",
              "\n",
              "    .colab-df-convert {\n",
              "      background-color: #E8F0FE;\n",
              "      border: none;\n",
              "      border-radius: 50%;\n",
              "      cursor: pointer;\n",
              "      display: none;\n",
              "      fill: #1967D2;\n",
              "      height: 32px;\n",
              "      padding: 0 0 0 0;\n",
              "      width: 32px;\n",
              "    }\n",
              "\n",
              "    .colab-df-convert:hover {\n",
              "      background-color: #E2EBFA;\n",
              "      box-shadow: 0px 1px 2px rgba(60, 64, 67, 0.3), 0px 1px 3px 1px rgba(60, 64, 67, 0.15);\n",
              "      fill: #174EA6;\n",
              "    }\n",
              "\n",
              "    [theme=dark] .colab-df-convert {\n",
              "      background-color: #3B4455;\n",
              "      fill: #D2E3FC;\n",
              "    }\n",
              "\n",
              "    [theme=dark] .colab-df-convert:hover {\n",
              "      background-color: #434B5C;\n",
              "      box-shadow: 0px 1px 3px 1px rgba(0, 0, 0, 0.15);\n",
              "      filter: drop-shadow(0px 1px 2px rgba(0, 0, 0, 0.3));\n",
              "      fill: #FFFFFF;\n",
              "    }\n",
              "  </style>\n",
              "\n",
              "      <script>\n",
              "        const buttonEl =\n",
              "          document.querySelector('#df-2f0c8670-9969-46a7-a134-ddc6a779807d button.colab-df-convert');\n",
              "        buttonEl.style.display =\n",
              "          google.colab.kernel.accessAllowed ? 'block' : 'none';\n",
              "\n",
              "        async function convertToInteractive(key) {\n",
              "          const element = document.querySelector('#df-2f0c8670-9969-46a7-a134-ddc6a779807d');\n",
              "          const dataTable =\n",
              "            await google.colab.kernel.invokeFunction('convertToInteractive',\n",
              "                                                     [key], {});\n",
              "          if (!dataTable) return;\n",
              "\n",
              "          const docLinkHtml = 'Like what you see? Visit the ' +\n",
              "            '<a target=\"_blank\" href=https://colab.research.google.com/notebooks/data_table.ipynb>data table notebook</a>'\n",
              "            + ' to learn more about interactive tables.';\n",
              "          element.innerHTML = '';\n",
              "          dataTable['output_type'] = 'display_data';\n",
              "          await google.colab.output.renderOutput(dataTable, element);\n",
              "          const docLink = document.createElement('div');\n",
              "          docLink.innerHTML = docLinkHtml;\n",
              "          element.appendChild(docLink);\n",
              "        }\n",
              "      </script>\n",
              "    </div>\n",
              "  </div>\n",
              "  "
            ]
          },
          "metadata": {},
          "execution_count": 13
        }
      ]
    },
    {
      "cell_type": "code",
      "source": [
        "porcentagem_faltantes(concatenando)"
      ],
      "metadata": {
        "colab": {
          "base_uri": "https://localhost:8080/"
        },
        "id": "YwXUw9bs-foJ",
        "outputId": "81144e5b-56ad-4bda-eb12-77a59efebf51"
      },
      "execution_count": null,
      "outputs": [
        {
          "output_type": "execute_result",
          "data": {
            "text/plain": [
              "StyleID           0.000000\n",
              "Size(L)           0.000000\n",
              "OG                0.000000\n",
              "FG                0.000000\n",
              "ABV               0.000000\n",
              "IBU               0.003846\n",
              "Color             0.003846\n",
              "BoilSize          0.003846\n",
              "BoilTime          0.003846\n",
              "BoilGravity       4.988845\n",
              "Efficiency        0.003846\n",
              "MashThickness    42.453266\n",
              "SugarScale        0.003846\n",
              "PitchRate        54.684976\n",
              "PrimaryTemp      31.525502\n",
              "All Grain         0.000000\n",
              "BIAB              0.000000\n",
              "Partial Mash      0.000000\n",
              "extract           0.000000\n",
              "dtype: float64"
            ]
          },
          "metadata": {},
          "execution_count": 14
        }
      ]
    },
    {
      "cell_type": "code",
      "source": [
        "import matplotlib.pyplot as plt \n",
        "concatenando.boxplot(column=['BoilGravity', 'MashThickness', 'PitchRate', 'PrimaryTemp'])\n",
        "plt.show()"
      ],
      "metadata": {
        "colab": {
          "base_uri": "https://localhost:8080/",
          "height": 265
        },
        "id": "bv_dr2Of-fqu",
        "outputId": "3b7d4c1c-26ea-441a-f547-3e51ffa0bd0e"
      },
      "execution_count": null,
      "outputs": [
        {
          "output_type": "display_data",
          "data": {
            "text/plain": [
              "<Figure size 432x288 with 1 Axes>"
            ],
            "image/png": "[encoded data removed]"
          },
          "metadata": {
            "needs_background": "light"
          }
        }
      ]
    },
    {
      "cell_type": "code",
      "source": [
        "concatenando.hist(column = ['BoilGravity', 'MashThickness', 'PitchRate', 'PrimaryTemp'], bins=20)\n",
        "plt.show()"
      ],
      "metadata": {
        "colab": {
          "base_uri": "https://localhost:8080/",
          "height": 281
        },
        "id": "VVCAD-8c-ftt",
        "outputId": "ec115e98-d05a-4dde-daee-b3bb9b9ced71"
      },
      "execution_count": null,
      "outputs": [
        {
          "output_type": "display_data",
          "data": {
            "text/plain": [
              "<Figure size 432x288 with 4 Axes>"
            ],
            "image/png": "[encoded data removed]"
          },
          "metadata": {
            "needs_background": "light"
          }
        }
      ]
    },
    {
      "cell_type": "code",
      "source": [
        "concatenando['PitchRate'].fillna(concatenando['PitchRate'].mean(), inplace=True)\n",
        "concatenando.fillna(concatenando.median(), inplace=True)"
      ],
      "metadata": {
        "id": "seUnih2E-fwZ"
      },
      "execution_count": null,
      "outputs": []
    },
    {
      "cell_type": "code",
      "source": [
        "porcentagem_faltantes(concatenando)"
      ],
      "metadata": {
        "colab": {
          "base_uri": "https://localhost:8080/"
        },
        "id": "e-qJlORy-fzX",
        "outputId": "a07f7c7c-cf8b-4bb9-d254-7ba5b1cd4c33"
      },
      "execution_count": null,
      "outputs": [
        {
          "output_type": "execute_result",
          "data": {
            "text/plain": [
              "StyleID          0.0\n",
              "Size(L)          0.0\n",
              "OG               0.0\n",
              "FG               0.0\n",
              "ABV              0.0\n",
              "IBU              0.0\n",
              "Color            0.0\n",
              "BoilSize         0.0\n",
              "BoilTime         0.0\n",
              "BoilGravity      0.0\n",
              "Efficiency       0.0\n",
              "MashThickness    0.0\n",
              "SugarScale       0.0\n",
              "PitchRate        0.0\n",
              "PrimaryTemp      0.0\n",
              "All Grain        0.0\n",
              "BIAB             0.0\n",
              "Partial Mash     0.0\n",
              "extract          0.0\n",
              "dtype: float64"
            ]
          },
          "metadata": {},
          "execution_count": 18
        }
      ]
    },
    {
      "cell_type": "code",
      "source": [
        "# definindo variáveis preditoras e variável target \n",
        "y = concatenando['StyleID']\n",
        "x = concatenando.drop('StyleID', axis=1)"
      ],
      "metadata": {
        "id": "zqJzf9_7-f2X"
      },
      "execution_count": null,
      "outputs": []
    },
    {
      "cell_type": "code",
      "source": [
        "def modelos(a, b):\n",
        "    from sklearn.linear_model    import LogisticRegression\n",
        "    from sklearn.naive_bayes     import GaussianNB\n",
        "    from sklearn.tree            import DecisionTreeClassifier\n",
        "    from sklearn.neighbors       import KNeighborsClassifier\n",
        "    from sklearn.preprocessing   import MinMaxScaler\n",
        "    from sklearn.model_selection import StratifiedKFold, cross_val_score\n",
        "    \n",
        "    skfold = StratifiedKFold(n_splits=3)\n",
        "    x, y   = a, b\n",
        "    \n",
        "    # normalizando as variáveis preditoras para o KNN\n",
        "    normalizador = MinMaxScaler(feature_range=(0, 1))\n",
        "    X            = normalizador.fit_transform(x)\n",
        "    \n",
        "    logist = LogisticRegression()\n",
        "    naive  = GaussianNB()\n",
        "    tree   = DecisionTreeClassifier()\n",
        "    knn    = KNeighborsClassifier()\n",
        "    \n",
        "    r_logist = cross_val_score(logist ,x , y, cv=skfold) \n",
        "    r_naive  = cross_val_score(naive  ,x , y, cv=skfold) \n",
        "    r_tree   = cross_val_score(tree   ,x , y, cv=skfold) \n",
        "    r_knn    = cross_val_score(knn    ,X , y, cv=skfold) \n",
        "    \n",
        "    d_calssmodels = {'Logística':r_logist.mean(), 'Naive Bayes':r_naive.mean(), 'Decision Tree':r_tree.mean(), 'KNN':r_knn.mean()}\n",
        "    melhor_modelo = max(d_calssmodels, key=d_calssmodels.get)\n",
        "    \n",
        "    print(f'Regressão Logistica: {r_logist.mean()} \\nNaive Bayes: {r_naive.mean()} \\nDecision Tree: {r_tree.mean()} \\nKNN: {r_knn.mean()}')\n",
        "    print(f'O melhor modelo foi: {melhor_modelo}, com o valor: {d_calssmodels[melhor_modelo]}')"
      ],
      "metadata": {
        "id": "SReZEf1D-f5e"
      },
      "execution_count": null,
      "outputs": []
    },
    {
      "cell_type": "code",
      "source": [
        "modelos(x, y)"
      ],
      "metadata": {
        "colab": {
          "base_uri": "https://localhost:8080/"
        },
        "id": "YrqTXSem-pd-",
        "outputId": "f284ce09-8bb6-487c-c52e-ad7ed03aab7d"
      },
      "execution_count": null,
      "outputs": [
        {
          "output_type": "stream",
          "name": "stderr",
          "text": [
            "/usr/local/lib/python3.9/dist-packages/sklearn/linear_model/_logistic.py:458: ConvergenceWarning: lbfgs failed to converge (status=1):\n",
            "STOP: TOTAL NO. of ITERATIONS REACHED LIMIT.\n",
            "\n",
            "Increase the number of iterations (max_iter) or scale the data as shown in:\n",
            "    https://scikit-learn.org/stable/modules/preprocessing.html\n",
            "Please also refer to the documentation for alternative solver options:\n",
            "    https://scikit-learn.org/stable/modules/linear_model.html#logistic-regression\n",
            "  n_iter_i = _check_optimize_result(\n",
            "/usr/local/lib/python3.9/dist-packages/sklearn/linear_model/_logistic.py:458: ConvergenceWarning: lbfgs failed to converge (status=1):\n",
            "STOP: TOTAL NO. of ITERATIONS REACHED LIMIT.\n",
            "\n",
            "Increase the number of iterations (max_iter) or scale the data as shown in:\n",
            "    https://scikit-learn.org/stable/modules/preprocessing.html\n",
            "Please also refer to the documentation for alternative solver options:\n",
            "    https://scikit-learn.org/stable/modules/linear_model.html#logistic-regression\n",
            "  n_iter_i = _check_optimize_result(\n",
            "/usr/local/lib/python3.9/dist-packages/sklearn/linear_model/_logistic.py:458: ConvergenceWarning: lbfgs failed to converge (status=1):\n",
            "STOP: TOTAL NO. of ITERATIONS REACHED LIMIT.\n",
            "\n",
            "Increase the number of iterations (max_iter) or scale the data as shown in:\n",
            "    https://scikit-learn.org/stable/modules/preprocessing.html\n",
            "Please also refer to the documentation for alternative solver options:\n",
            "    https://scikit-learn.org/stable/modules/linear_model.html#logistic-regression\n",
            "  n_iter_i = _check_optimize_result(\n"
          ]
        },
        {
          "output_type": "stream",
          "name": "stdout",
          "text": [
            "Regressão Logistica: 0.442495576582814 \n",
            "Naive Bayes: 0.3967997538272175 \n",
            "Decision Tree: 0.47238249096084317 \n",
            "KNN: 0.4716132010154627\n",
            "O melhor modelo foi: Decision Tree, com o valor: 0.47238249096084317\n"
          ]
        }
      ]
    }
  ]
}