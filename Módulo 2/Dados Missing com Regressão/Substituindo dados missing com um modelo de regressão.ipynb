{
 "cells": [
  {
   "cell_type": "code",
   "execution_count": null,
   "id": "36a5b55b",
   "metadata": {},
   "outputs": [],
   "source": [
    "import pandas as pd\n",
    "pd.set_option('display.max_columns', 23)\n",
    "arquivo = pd.read_csv('recipeData.csv', encoding='ISO-8859-1')"
   ]
  },
  {
   "cell_type": "code",
   "execution_count": null,
   "id": "c92bc36a",
   "metadata": {},
   "outputs": [],
   "source": [
    "selecao = arquivo.loc[arquivo['StyleID'].isin([7, 10, 134, 9, 4, 30, 86, 12, 92, 6, 175, 39])]"
   ]
  },
  {
   "cell_type": "code",
   "execution_count": null,
   "id": "3b4bab0e",
   "metadata": {},
   "outputs": [],
   "source": [
    "selecao.drop(['BeerID', 'Name', 'URL', 'Style', 'UserId', 'PrimingMethod', 'PrimingAmount'], axis=1)"
   ]
  },
  {
   "cell_type": "code",
   "execution_count": null,
   "id": "e49c4bf6",
   "metadata": {},
   "outputs": [],
   "source": [
    "selecao.loc[selecao['SugarScale'] == 'Specific Gravity', 'SugarScale'] = 0\n",
    "selecao.loc[selecao['SugarScale'] == 'Plato', 'SugarScale'] = 1"
   ]
  },
  {
   "cell_type": "code",
   "execution_count": null,
   "id": "5a7b305b",
   "metadata": {},
   "outputs": [],
   "source": [
    "# transformando variáveis texto na coluna 'BrewMethod' em categorias com one hot encoding\n",
    "brewmethod_encode = pd.get_dummies(selecao['BrewMethod'])\n",
    "\n",
    "# excluindo a coluna de texto 'BrewMethod'\n",
    "selecao = selecao.drop('BrewMethod', axis=1)\n",
    "\n",
    "# inserindo as variáveis one hot encode novamente no dataset\n",
    "df = pd.concat([selecao, brewmethod_encode], axis=1)"
   ]
  },
  {
   "cell_type": "code",
   "execution_count": null,
   "id": "39427bbc",
   "metadata": {},
   "outputs": [],
   "source": [
    "df.head(15)"
   ]
  },
  {
   "cell_type": "code",
   "execution_count": null,
   "id": "611d216b",
   "metadata": {},
   "outputs": [],
   "source": [
    "faltantes = df.isnull().sum()\n",
    "faltantesPercentual = (faltantes/ len(df['StyleID'])) * 100\n",
    "\n",
    "print(faltantesPercentual)"
   ]
  },
  {
   "cell_type": "code",
   "execution_count": null,
   "id": "06971cc1",
   "metadata": {},
   "outputs": [],
   "source": [
    "df['BoilGravity'].fillna(df['BoilGravity'].median(), inplace=True)"
   ]
  },
  {
   "cell_type": "code",
   "execution_count": null,
   "id": "23610159",
   "metadata": {},
   "outputs": [],
   "source": [
    "x_treino = df[df['PitchRate'].notnull()]\n",
    "x_treino.drop('PitchRate', axis=1, inplace=True)\n",
    "y_treino = df[df['PitchRate'].notnull()]['PitchRate']\n",
    "x_preench = df[df['PitchRate'].isnull()]\n",
    "x_preench.drop('PitchRate', axis=1, inplace=True)\n",
    "y_preench = df[df['PitchRate'].isnull()]['PitchRate']"
   ]
  },
  {
   "cell_type": "code",
   "execution_count": null,
   "id": "a6293964",
   "metadata": {},
   "outputs": [],
   "source": [
    "x_treino = x_treino.drop(['MashThickness', 'PrimaryTemp'], axis=1)\n",
    "x_preench = x_preench.drop(['MashThickness', 'PrimaryTemp'], axis=1)"
   ]
  },
  {
   "cell_type": "code",
   "execution_count": null,
   "id": "6ec15f5e",
   "metadata": {},
   "outputs": [],
   "source": [
    "from sklearn.tree import DecisionTreeRegressor\n",
    "\n",
    "# aplicando o modelo\n",
    "modelo = DecisionTreeRegressor()\n",
    "modelo.fit(x_treino, y_treino)\n",
    "\n",
    "# predição dos valores\n",
    "y_preech = modelo.predict(x_preench)"
   ]
  },
  {
   "cell_type": "code",
   "execution_count": null,
   "id": "1e58d77f",
   "metadata": {},
   "outputs": [],
   "source": [
    "df = df.PitchRate[df.PitchRate.isnull()] = y_preench"
   ]
  }
 ],
 "metadata": {
  "kernelspec": {
   "display_name": "Python 3 (ipykernel)",
   "language": "python",
   "name": "python3"
  },
  "language_info": {
   "codemirror_mode": {
    "name": "ipython",
    "version": 3
   },
   "file_extension": ".py",
   "mimetype": "text/x-python",
   "name": "python",
   "nbconvert_exporter": "python",
   "pygments_lexer": "ipython3",
   "version": "3.11.5"
  }
 },
 "nbformat": 4,
 "nbformat_minor": 5
}
